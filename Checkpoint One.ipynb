{
 "cells": [
  {
   "cell_type": "markdown",
   "id": "c69499ba",
   "metadata": {},
   "source": [
    "# Data Analysis Final Project Checkpoint One.\n"
   ]
  },
  {
   "cell_type": "markdown",
   "id": "fb7eef13",
   "metadata": {},
   "source": [
    "Dataset"
   ]
  },
  {
   "cell_type": "markdown",
   "id": "b081547e",
   "metadata": {},
   "source": [
    "I'll be using [this dataset](https://www.kaggle.com/datasets/sumandey/national-stock-exchange-dataset-sensex/data), picked from Kaggle."
   ]
  },
  {
   "cell_type": "markdown",
   "id": "5c2e2560",
   "metadata": {},
   "source": [
    "## Business Issue"
   ]
  },
  {
   "cell_type": "markdown",
   "id": "4c544ee3",
   "metadata": {},
   "source": [
    "I'd like to explore dataset to study and predict the future stock prices."
   ]
  }
 ],
 "metadata": {
  "kernelspec": {
   "display_name": "Python 3 (ipykernel)",
   "language": "python",
   "name": "python3"
  },
  "language_info": {
   "codemirror_mode": {
    "name": "ipython",
    "version": 3
   },
   "file_extension": ".py",
   "mimetype": "text/x-python",
   "name": "python",
   "nbconvert_exporter": "python",
   "pygments_lexer": "ipython3",
   "version": "3.10.9"
  }
 },
 "nbformat": 4,
 "nbformat_minor": 5
}
